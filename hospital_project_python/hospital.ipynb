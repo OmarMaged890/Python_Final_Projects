{
 "cells": [
  {
   "cell_type": "code",
   "execution_count": 7,
   "metadata": {},
   "outputs": [],
   "source": [
    "class Hospital:\n",
    "    \"\"\"Class representing a hospital.\"\"\"\n",
    "    \n",
    "    def __init__(self, name):\n",
    "        self.name = name  # Name of the hospital\n",
    "        self.departments = []  # List to hold departments\n",
    "        self.patients = []  # List to hold patients\n",
    "        self.doctors = []  # List to hold doctors\n",
    "        self.nurses = []  # List to hold nurses\n",
    "        self.visitors = []  # List to hold visitors\n",
    "        self.devices = []  # Lt to hold medical devicesis\n",
    "    def add_department(self, department):\n",
    "        \"\"\"Add a department to the hospital.\"\"\"\n",
    "        self.departments.append(department)\n",
    "\n",
    "    def add_patient(self, patient):\n",
    "        \"\"\"Add a patient to the hospital.\"\"\"\n",
    "        self.patients.append(patient)\n",
    "\n",
    "    def add_doctor(self, doctor):\n",
    "        \"\"\"Add a doctor to the hospital.\"\"\"\n",
    "        self.doctors.append(doctor)\n",
    "\n",
    "    def add_nurse(self, nurse):\n",
    "        \"\"\"Add a nurse to the hospital.\"\"\"\n",
    "        self.nurses.append(nurse)\n",
    "\n",
    "    def add_visitor(self, visitor):\n",
    "        \"\"\"Add a visitor to the hospital.\"\"\"\n",
    "        self.visitors.append(visitor)\n",
    "\n",
    "    def add_device(self, device):\n",
    "        \"\"\"Add a medical device to the hospital.\"\"\"\n",
    "        self.devices.append(device)\n",
    "\n",
    "    def view_info(self):\n",
    "        \"\"\"View basic information about the hospital.\"\"\"\n",
    "        info = f\"Hospital Name: {self.name}\"\n",
    "        info += f\" Departments: {len(self.departments)}, Patients: {len(self.patients)}, \"\n",
    "        info += f\"Doctors: {len(self.doctors)}, Nurses: {len(self.nurses)}, \"\n",
    "        info += f\"Visitors: {len(self.visitors)}, Devices: {len(self.devices)}\"\n",
    "        return info"
   ]
  },
  {
   "cell_type": "code",
   "execution_count": 8,
   "metadata": {},
   "outputs": [],
   "source": [
    "from device_class import Device\n",
    "from patient_class import Patient\n",
    "from doctor_class import Doctor\n",
    "from nurse_class import Nurse\n",
    "from department_class import Department"
   ]
  },
  {
   "cell_type": "code",
   "execution_count": 9,
   "metadata": {},
   "outputs": [
    {
     "name": "stdout",
     "output_type": "stream",
     "text": [
      "Device Name: autoclave, Type: sterilization, Status: operational\n",
      "Device Name: CT, Type: Radiology, Status: Service\n",
      "Patient Name :Rana, Age: 25, Ailment: cold\n",
      "Doctor name :Dr.Ahmed, Age: 40, Specialty: cardoligy\n",
      "Nurse name :Sara, Age: 27\n",
      "Department: Cardiology, Head: Dr. saad\n",
      "Hospital Name: Health_Life Departments: 1, Patients: 1, Doctors: 1, Nurses: 1, Visitors: 1, Devices: 1\n"
     ]
    }
   ],
   "source": [
    "if __name__ == \"__main__\":\n",
    "    \n",
    "    # Create an object of devices in hospital :    \n",
    "    Device_1 = Device ('autoclave', 'sterilization', 'operational')\n",
    "    Device_2 = Device ('CT', 'Radiology', 'Service')\n",
    "    print(Device_1.view_info())\n",
    "    print(Device_2.view_info())\n",
    "\n",
    "    # Create an object patient:\n",
    "    Patient_1 = Patient('Rana', 25, 'cold')\n",
    "    print(Patient_1.view_info())\n",
    "    \n",
    "    # Create an object doctor:\n",
    "    Doctor_1 = Doctor(\"Dr.Ahmed\", 40, 'cardoligy')\n",
    "    print(Doctor_1.view_info())\n",
    "    \n",
    "    # Create an object nurse :\n",
    "    Nurse_1 = Nurse(\"Sara\", 27)\n",
    "    print(Nurse_1.view_info())\n",
    "    \n",
    "    # Create an object visitor :\n",
    "    # Visitor_1 = Visitor('Omar', 22, 'Patient_Brother')\n",
    "    #print(Visitor_1.view_info())\n",
    "\n",
    "    # Create a department :\n",
    "    Depart = Department(\"Cardiology\", \"Dr. saad\")\n",
    "    print(Depart.view_info())\n",
    "\n",
    "    # Create a hospital :\n",
    "    hospital = Hospital(\"Health_Life\")\n",
    "    hospital.add_department(\"RADIOLOGY\")\n",
    "    hospital.add_device(\"CT\")\n",
    "    hospital.add_doctor(\"Dr.saad\")\n",
    "    hospital.add_nurse(\"sara\")\n",
    "    hospital.add_patient('ahmed')\n",
    "    hospital.add_visitor(\"omar\")\n",
    "    print(hospital.view_info())"
   ]
  }
 ],
 "metadata": {
  "kernelspec": {
   "display_name": "Python 3",
   "language": "python",
   "name": "python3"
  },
  "language_info": {
   "codemirror_mode": {
    "name": "ipython",
    "version": 3
   },
   "file_extension": ".py",
   "mimetype": "text/x-python",
   "name": "python",
   "nbconvert_exporter": "python",
   "pygments_lexer": "ipython3",
   "version": "3.12.7"
  }
 },
 "nbformat": 4,
 "nbformat_minor": 2
}
